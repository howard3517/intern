{
 "cells": [
  {
   "cell_type": "code",
   "execution_count": 1,
   "id": "2fdd2b3e",
   "metadata": {},
   "outputs": [],
   "source": [
    "from sklearn.metrics import mean_squared_error as mse\n",
    "from sklearn.preprocessing import StandardScaler"
   ]
  },
  {
   "cell_type": "code",
   "execution_count": 2,
   "id": "21039da2",
   "metadata": {},
   "outputs": [],
   "source": [
    "import pandas as pd \n",
    "from sklearn.model_selection import train_test_split\n",
    "\n",
    "df = pd.read_csv('data.csv',encoding='cp950')\n",
    "\n",
    "X = df.drop(labels=['bank','part'],axis=1).values\n",
    "y = df['bank'].values\n",
    "\n",
    "X_train,X_test,y_train,y_test = train_test_split(X,y,test_size=0.2,random_state=42)\n"
   ]
  },
  {
   "cell_type": "code",
   "execution_count": 3,
   "id": "d88896b7",
   "metadata": {},
   "outputs": [
    {
     "name": "stdout",
     "output_type": "stream",
     "text": [
      "linear:\n",
      "2.712948903945375\n"
     ]
    }
   ],
   "source": [
    "from sklearn.linear_model import LinearRegression\n",
    "\n",
    "scaler = StandardScaler()\n",
    "\n",
    "df = pd.read_csv('data.csv',encoding='cp950')\n",
    "\n",
    "X = df.drop(labels=['bank','population','part','income','grid_id','partnum','ATM'],axis=1)\n",
    "y = df['bank'].values\n",
    "\n",
    "X_train,X_test,y_train,y_test = train_test_split(X,y,test_size=0.3,random_state=1)\n",
    "\n",
    "\n",
    "\n",
    "logreg= LinearRegression()\n",
    "logreg.fit(X_train, y_train)\n",
    "\n",
    "pre = logreg.predict(X_test)\n",
    "print('linear:')\n",
    "print(mse(pre, y_test))"
   ]
  },
  {
   "cell_type": "code",
   "execution_count": 4,
   "id": "788d4daa",
   "metadata": {
    "scrolled": true
   },
   "outputs": [
    {
     "name": "stdout",
     "output_type": "stream",
     "text": [
      "rbf:\n",
      "5.0272479564032695\n"
     ]
    }
   ],
   "source": [
    "#svm\n",
    "from sklearn.svm import SVC\n",
    "import matplotlib.pyplot as plt\n",
    "\n",
    "clf=SVC(kernel='rbf',C=1,gamma='auto')\n",
    "clf.fit(X_train,y_train)\n",
    "pre = clf.predict(X_test)\n",
    "print('rbf:')\n",
    "print(mse(pre,y_test))\n",
    "\n",
    "\n"
   ]
  },
  {
   "cell_type": "code",
   "execution_count": 5,
   "id": "9df105ad",
   "metadata": {},
   "outputs": [
    {
     "name": "stdout",
     "output_type": "stream",
     "text": [
      "dt:\n",
      "2.0816326530612246\n"
     ]
    }
   ],
   "source": [
    "from sklearn import tree\n",
    "import pandas as pd \n",
    "from sklearn.model_selection import train_test_split\n",
    "\n",
    "df = pd.read_csv('data.csv',encoding='cp950')\n",
    "\n",
    "X = df.drop(labels=['bank','part'],axis=1).values\n",
    "y = df['bank'].values\n",
    "\n",
    "X_train,X_test,y_train,y_test = train_test_split(X,y,test_size=0.2,random_state=42)\n",
    "\n",
    "clf = tree.DecisionTreeRegressor()\n",
    "clf.fit(X_train,y_train)\n",
    "pre = clf.predict(X_test)\n",
    "print('dt:')\n",
    "print(mse(pre,y_test))"
   ]
  },
  {
   "cell_type": "code",
   "execution_count": 6,
   "id": "832e45e2",
   "metadata": {},
   "outputs": [
    {
     "name": "stdout",
     "output_type": "stream",
     "text": [
      "dt:\n",
      "1.8595899970321605\n"
     ]
    }
   ],
   "source": [
    "\n",
    "from sklearn import tree\n",
    "import pandas as pd \n",
    "from sklearn.model_selection import train_test_split\n",
    "\n",
    "df = pd.read_csv('data.csv',encoding='cp950')\n",
    "\n",
    "X = df.drop(labels=['bank','part'],axis=1).values\n",
    "y = df['bank'].values\n",
    "\n",
    "X_train,X_test,y_train,y_test = train_test_split(X,y,test_size=0.2,random_state=565)\n",
    "\n",
    "clf = tree.DecisionTreeRegressor(max_depth=6)\n",
    "clf.fit(X_train,y_train)\n",
    "pre = clf.predict(X_test)\n",
    "print('dt:')\n",
    "print(mse(pre,y_test))\n"
   ]
  },
  {
   "cell_type": "code",
   "execution_count": 7,
   "id": "694690b1",
   "metadata": {},
   "outputs": [
    {
     "name": "stdout",
     "output_type": "stream",
     "text": [
      "random:565\n",
      "1.7983655072362423\n"
     ]
    }
   ],
   "source": [
    "from sklearn import tree\n",
    "import pandas as pd \n",
    "from sklearn.model_selection import train_test_split\n",
    "\n",
    "df = pd.read_csv('data.csv',encoding='cp950')\n",
    "\n",
    "X = df.drop(labels=['bank','part'],axis=1).values\n",
    "y = df['bank'].values\n",
    "\n",
    "score = []\n",
    "def find_rs():\n",
    "    for i in range(1000):\n",
    "        X_train,X_test,y_train,y_test = train_test_split(X,y,test_size=0.2,random_state=i)\n",
    "\n",
    "        clf = tree.DecisionTreeRegressor(max_depth=6)\n",
    "        clf.fit(X_train,y_train)\n",
    "        pre = clf.predict(X_test)\n",
    "        score.append(mse(pre,y_test))\n",
    "\n",
    "    num = score.index(min(score))\n",
    "    print('random:{}'.format(num+1))\n",
    "    return (num+1)\n",
    "def tre(i):\n",
    "    X_train,X_test,y_train,y_test = train_test_split(X,y,test_size=0.2,random_state=i)\n",
    "    clf = tree.DecisionTreeRegressor(max_depth=6)\n",
    "    clf.fit(X_train,y_train)\n",
    "    pre = clf.predict(X_test)\n",
    "    print(mse(pre,y_test))\n",
    "    \n",
    "tre(find_rs())"
   ]
  },
  {
   "cell_type": "code",
   "execution_count": 8,
   "id": "cd4ccffe",
   "metadata": {},
   "outputs": [
    {
     "name": "stdout",
     "output_type": "stream",
     "text": [
      "RidgeCV:\n",
      "1.8329058653439871\n"
     ]
    }
   ],
   "source": [
    "from sklearn.linear_model import RidgeCV\n",
    "df = pd.read_csv('data.csv',encoding='cp950')\n",
    "\n",
    "X = df.drop(labels=['bank','part'],axis=1)\n",
    "y = df['bank'].values\n",
    "\n",
    "X_train,X_test,y_train,y_test = train_test_split(X,y,test_size=0.2,random_state=42)\n",
    "\n",
    "lrcv = RidgeCV()\n",
    "lrcv.fit(X_train, y_train)\n",
    "\n",
    "pre = lrcv.predict(X_test)\n",
    "print('RidgeCV:')\n",
    "print(mse(pre,y_test))\n"
   ]
  },
  {
   "cell_type": "code",
   "execution_count": 22,
   "id": "6f07778c",
   "metadata": {},
   "outputs": [
    {
     "name": "stdout",
     "output_type": "stream",
     "text": [
      "xgboost:\n",
      "1.312806771290064\n"
     ]
    }
   ],
   "source": [
    "from xgboost import Booster, XGBRegressor,XGBClassifier\n",
    "import pandas as pd\n",
    "\n",
    "\n",
    "df = pd.read_csv('data.csv',encoding='cp950')\n",
    "\n",
    "X = df.drop(labels=['bank','population','part','college','highsch'],axis=1)\n",
    "y = df['bank'].values\n",
    "\n",
    "X_train,X_test,y_train,y_test = train_test_split(X,y,test_size=0.3,random_state=1)\n",
    "\n",
    "params = {'colsample_bytree': 1.0, 'gamma': 0, 'max_depth': 5, 'min_child_weight': 1, 'subsample': 0.8}\n",
    " \n",
    "model = XGBRegressor(**params)\n",
    "model.fit(X_train, y_train)\n",
    "\n",
    "pre = model.predict(X_test)\n",
    "print('xgboost:')\n",
    "print(mse(pre,y_test))"
   ]
  },
  {
   "cell_type": "code",
   "execution_count": 10,
   "id": "001e81cf",
   "metadata": {},
   "outputs": [
    {
     "name": "stdout",
     "output_type": "stream",
     "text": [
      "HuberRegressor:\n",
      "1.4145727658894776\n"
     ]
    }
   ],
   "source": [
    "from sklearn.linear_model import HuberRegressor\n",
    "df = pd.read_csv('data.csv',encoding='cp950')\n",
    "\n",
    "X = df.drop(labels=['bank','college','part','highsch'],axis=1)\n",
    "y = df['bank'].values\n",
    "\n",
    "X_train,X_test,y_train,y_test = train_test_split(X,y,test_size=0.3,random_state=1)\n",
    "\n",
    "params = {'epsilon':1,'max_iter':300,'alpha':0.000225}\n",
    "\n",
    "lrcv = HuberRegressor(**params)\n",
    "lrcv.fit(X_train, y_train)\n",
    "\n",
    "pre = lrcv.predict(X_test)\n",
    "print('HuberRegressor:')\n",
    "print(mse(pre,y_test))"
   ]
  },
  {
   "cell_type": "code",
   "execution_count": 11,
   "id": "abe1c53f",
   "metadata": {},
   "outputs": [
    {
     "ename": "NameError",
     "evalue": "name 'np' is not defined",
     "output_type": "error",
     "traceback": [
      "\u001b[1;31m---------------------------------------------------------------------------\u001b[0m",
      "\u001b[1;31mNameError\u001b[0m                                 Traceback (most recent call last)",
      "\u001b[1;32m~\\AppData\\Local\\Temp\\ipykernel_12368\\2462353706.py\u001b[0m in \u001b[0;36m<module>\u001b[1;34m\u001b[0m\n\u001b[0;32m      1\u001b[0m \u001b[1;32mfrom\u001b[0m \u001b[0msklearn\u001b[0m\u001b[1;33m.\u001b[0m\u001b[0mmodel_selection\u001b[0m \u001b[1;32mimport\u001b[0m \u001b[0mRandomizedSearchCV\u001b[0m\u001b[1;33m,\u001b[0m \u001b[0mGridSearchCV\u001b[0m\u001b[1;33m\u001b[0m\u001b[1;33m\u001b[0m\u001b[0m\n\u001b[1;32m----> 2\u001b[1;33m \u001b[0mepsilon\u001b[0m \u001b[1;33m=\u001b[0m \u001b[1;33m[\u001b[0m\u001b[0mint\u001b[0m\u001b[1;33m(\u001b[0m\u001b[0mx\u001b[0m\u001b[1;33m)\u001b[0m \u001b[1;32mfor\u001b[0m \u001b[0mx\u001b[0m \u001b[1;32min\u001b[0m \u001b[0mnp\u001b[0m\u001b[1;33m.\u001b[0m\u001b[0mlinspace\u001b[0m\u001b[1;33m(\u001b[0m\u001b[0mstart\u001b[0m \u001b[1;33m=\u001b[0m \u001b[1;36m1\u001b[0m\u001b[1;33m,\u001b[0m \u001b[0mstop\u001b[0m \u001b[1;33m=\u001b[0m \u001b[1;36m2\u001b[0m\u001b[1;33m,\u001b[0m \u001b[0mnum\u001b[0m \u001b[1;33m=\u001b[0m \u001b[1;36m5\u001b[0m\u001b[1;33m)\u001b[0m\u001b[1;33m]\u001b[0m \u001b[1;31m# number of trees in the random forest\u001b[0m\u001b[1;33m\u001b[0m\u001b[1;33m\u001b[0m\u001b[0m\n\u001b[0m\u001b[0;32m      3\u001b[0m \u001b[0mmax_iter\u001b[0m \u001b[1;33m=\u001b[0m \u001b[1;33m[\u001b[0m\u001b[0mint\u001b[0m\u001b[1;33m(\u001b[0m\u001b[0mx\u001b[0m\u001b[1;33m)\u001b[0m \u001b[1;32mfor\u001b[0m \u001b[0mx\u001b[0m \u001b[1;32min\u001b[0m \u001b[0mnp\u001b[0m\u001b[1;33m.\u001b[0m\u001b[0mlinspace\u001b[0m\u001b[1;33m(\u001b[0m\u001b[0mstart\u001b[0m \u001b[1;33m=\u001b[0m \u001b[1;36m100\u001b[0m\u001b[1;33m,\u001b[0m \u001b[0mstop\u001b[0m \u001b[1;33m=\u001b[0m \u001b[1;36m1000\u001b[0m\u001b[1;33m,\u001b[0m \u001b[0mnum\u001b[0m \u001b[1;33m=\u001b[0m \u001b[1;36m10\u001b[0m\u001b[1;33m)\u001b[0m\u001b[1;33m]\u001b[0m \u001b[1;31m# number of features in consideration at every split\u001b[0m\u001b[1;33m\u001b[0m\u001b[1;33m\u001b[0m\u001b[0m\n\u001b[0;32m      4\u001b[0m \u001b[0malpha\u001b[0m \u001b[1;33m=\u001b[0m \u001b[1;33m[\u001b[0m\u001b[0mfloat\u001b[0m\u001b[1;33m(\u001b[0m\u001b[0mx\u001b[0m\u001b[1;33m)\u001b[0m \u001b[1;32mfor\u001b[0m \u001b[0mx\u001b[0m \u001b[1;32min\u001b[0m \u001b[0mnp\u001b[0m\u001b[1;33m.\u001b[0m\u001b[0mlinspace\u001b[0m\u001b[1;33m(\u001b[0m\u001b[1;36m0.0001\u001b[0m\u001b[1;33m,\u001b[0m \u001b[1;36m0.0006\u001b[0m\u001b[1;33m,\u001b[0m \u001b[0mnum\u001b[0m \u001b[1;33m=\u001b[0m \u001b[1;36m5\u001b[0m\u001b[1;33m)\u001b[0m\u001b[1;33m]\u001b[0m \u001b[1;31m# maximum number of levels allowed in each decision tree\u001b[0m\u001b[1;33m\u001b[0m\u001b[1;33m\u001b[0m\u001b[0m\n\u001b[0;32m      5\u001b[0m \u001b[1;31m#min_child_weight = [0, 2, 5, 10, 20] # minimum sample number to split a node\u001b[0m\u001b[1;33m\u001b[0m\u001b[1;33m\u001b[0m\u001b[1;33m\u001b[0m\u001b[0m\n",
      "\u001b[1;31mNameError\u001b[0m: name 'np' is not defined"
     ]
    }
   ],
   "source": [
    "import numpy as np\n",
    "from sklearn.model_selection import RandomizedSearchCV, GridSearchCV\n",
    "epsilon = [int(x) for x in np.linspace(start = 1, stop = 2, num = 5)] # number of trees in the random forest\n",
    "max_iter = [int(x) for x in np.linspace(start = 100, stop = 1000, num = 10)] # number of features in consideration at every split\n",
    "alpha = [float(x) for x in np.linspace(0.0001, 0.0006, num = 5)] # maximum number of levels allowed in each decision tree\n",
    "#min_child_weight = [0, 2, 5, 10, 20] # minimum sample number to split a node\n",
    "\n",
    "params = {'epsilon':epsilon,'max_iter':max_iter,'alpha':alpha}\n",
    "\n",
    "model = HuberRegressor()\n",
    "\n",
    "gs = GridSearchCV(estimator =model,param_grid = params,scoring = 'r2',cv = 3,verbose=2,n_jobs=3)\n",
    "gs.fit(X,y)\n",
    "print ('Random grid: ', gs.best_score_, '\\n')\n",
    "\n",
    "# print the best parameters\n",
    "print ('Best Parameters: ', gs.best_params_, ' \\n')"
   ]
  },
  {
   "cell_type": "code",
   "execution_count": null,
   "id": "d146c2d3",
   "metadata": {
    "scrolled": true
   },
   "outputs": [],
   "source": [
    "import seaborn as sns\n",
    "sns.pairplot(df)"
   ]
  },
  {
   "cell_type": "code",
   "execution_count": null,
   "id": "4037d37b",
   "metadata": {},
   "outputs": [],
   "source": [
    "\"\"\"import numpy as np\n",
    "from sklearn.model_selection import RandomizedSearchCV, GridSearchCV\n",
    "params = {\n",
    "'max_depth': [5, 10, 15, 20, 25],\n",
    "'learning_rate': [0.01, 0.02, 0.05, 0.1, 0.15],\n",
    "'n_estimators': [500, 1000, 2000, 3000, 5000],\n",
    "'min_child_weight': [0, 2, 5, 10, 20],\n",
    "'max_delta_step': [0, 0.2, 0.6, 1, 2],\n",
    "'subsample': [0.6, 0.7, 0.8, 0.85, 0.95],\n",
    "'colsample_bytree': [0.5, 0.6, 0.7, 0.8, 0.9],\n",
    "'reg_alpha': [0, 0.25, 0.5, 0.75, 1],\n",
    "'reg_lambda': [0.2, 0.4, 0.6, 0.8, 1],\n",
    "'scale_pos_weight': [0.2, 0.4, 0.6, 0.8, 1]\n",
    "}\n",
    "\n",
    "model = XGBRegressor(**params)\n",
    "gs = GridSearchCV(model,params,scoring = 'neg_mean_squared_error',cv=3)\n",
    "gs.fit(X,y)\n",
    "print(gs.best_params_)\n",
    "print(gs.best_score_)\"\"\""
   ]
  },
  {
   "cell_type": "code",
   "execution_count": 19,
   "id": "f83836b5",
   "metadata": {},
   "outputs": [
    {
     "name": "stdout",
     "output_type": "stream",
     "text": [
      "Fitting 3 folds for each of 500 candidates, totalling 1500 fits\n",
      "Random grid:  0.6733577119253581 \n",
      "\n",
      "Best Parameters:  {'learning_rate': 0.25, 'max_depth': 8, 'n_estimators': 200}  \n",
      "\n"
     ]
    }
   ],
   "source": [
    "from xgboost import Booster, XGBRegressor,XGBClassifier\n",
    "import pandas as pd\n",
    "\n",
    "\n",
    "df = pd.read_csv('data.csv',encoding='cp950')\n",
    "\n",
    "X = df.drop(labels=['bank','population','part','college','highsch'],axis=1)\n",
    "y = df['bank'].values\n",
    "\n",
    "X_train,X_test,y_train,y_test = train_test_split(X,y,test_size=0.3,random_state=1)\n",
    "\n",
    "import numpy as np\n",
    "from sklearn.model_selection import RandomizedSearchCV, GridSearchCV\n",
    "learning_rate = [float(x) for x in np.linspace(start = 0, stop = 1, num = 5)] # number of trees in the random forest\n",
    "n_estimators = [int(x) for x in np.linspace(start = 100, stop = 1000, num = 10)] # number of features in consideration at every split\n",
    "max_depth = [int(x) for x in np.linspace(1, 10, num = 10)] # maximum number of levels allowed in each decision tree\n",
    "min_child_weight = [0, 2, 5, 10, 20] # minimum sample number to split a node\n",
    "subsample = [0.6, 0.7, 0.8, 0.85, 0.95] # minimum sample number that can be stored in a leaf node\n",
    "max_delta_step = [0, 0.2, 0.6, 1, 2]\n",
    "colsample_bytree: [0.5, 0.6, 0.7, 0.8, 0.9]\n",
    "reg_alpha: [0, 0.25, 0.5, 0.75, 1]\n",
    "reg_lambda: [0.2, 0.4, 0.6, 0.8, 1]\n",
    "scale_pos_weight: [0.2, 0.4, 0.6, 0.8, 1]\n",
    "\n",
    "para = {\n",
    "    'learning_rate':learning_rate,\n",
    "    'n_estimators':n_estimators,\n",
    "    'max_depth':max_depth,\n",
    "    #'min_child_weight':min_child_weight,\n",
    "    #'subsample':subsample,\n",
    "    #'max_delta_step':max_delta_step,\n",
    "    #'colsample_bytree':colsample_bytree,\n",
    "    #'reg_alpha':reg_alpha,\n",
    "    #'reg_lambda':reg_lambda,\n",
    "    #'scale_pos_weight':scale_pos_weight\n",
    "}\n",
    "model = XGBRegressor()\n",
    "\n",
    "rs = GridSearchCV(estimator =model,param_grid = para,scoring = 'r2',cv = 3,verbose=2,n_jobs=3)\n",
    "rs.fit(X,y)\n",
    "print ('Random grid: ', rs.best_score_, '\\n')\n",
    "\n",
    "# print the best parameters\n",
    "print ('Best Parameters: ', rs.best_params_, ' \\n')"
   ]
  },
  {
   "cell_type": "code",
   "execution_count": null,
   "id": "65a8baea",
   "metadata": {},
   "outputs": [],
   "source": [
    "#rint ('Random grid: ', rs.best_score_, '\\n')\n",
    "\n",
    "# print the best parameters\n",
    "# ('Best Parameters: ', rs.best_params_, ' \\n')\n",
    "\n",
    "para = {\n",
    "    'learning_rate':1,\n",
    "    'n_estimators':100,\n",
    "    'max_depth':9}\n",
    "\n",
    "model = XGBRegressor(**para)\n",
    "model.fit(X_train, y_train)\n",
    "\n",
    "pre = model.predict(X_test)\n",
    "print('xgboost:')\n",
    "print(mse(pre,y_test))"
   ]
  },
  {
   "cell_type": "code",
   "execution_count": null,
   "id": "aa1d2b53",
   "metadata": {},
   "outputs": [],
   "source": [
    "import numpy as np\n",
    "from sklearn.model_selection import RandomizedSearchCV, GridSearchCV\n",
    "other_params = {'learning_rate': 0.1, 'n_estimators': 500, 'max_depth': 5, 'min_child_weight': 1, 'seed': 0,\n",
    "                    'subsample': 0.8, 'colsample_bytree': 0.8, 'gamma': 0, 'reg_alpha': 0, 'reg_lambda': 1}\n",
    "cv_params = {'n_estimators': [210,220,230,240,250]}\n",
    "\n",
    "model = XGBRegressor(**other_params)\n",
    "\n",
    "gs = GridSearchCV(estimator=model, param_grid=cv_params, scoring='r2', cv=5, verbose=1, n_jobs=4)\n",
    "gs.fit(X_train, y_train)\n",
    "print(gs.best_params_)\n",
    "print(gs.best_score_)"
   ]
  },
  {
   "cell_type": "code",
   "execution_count": null,
   "id": "9b633446",
   "metadata": {},
   "outputs": [],
   "source": [
    "import numpy as np\n",
    "from sklearn.model_selection import RandomizedSearchCV, GridSearchCV\n",
    "other_params = {'learning_rate': 0.1, 'n_estimators': 250, 'max_depth': 5, 'min_child_weight': 1, 'seed': 0,\n",
    "                    'subsample': 0.8, 'colsample_bytree': 0.8, 'gamma': 0, 'reg_alpha': 0, 'reg_lambda': 1}\n",
    "cv_params = {'max_depth': [1,2,3,4,5,6,7,8,9,10]}\n",
    "\n",
    "model = XGBRegressor(**other_params)\n",
    "\n",
    "gs = GridSearchCV(estimator=model, param_grid=cv_params, scoring='r2', cv=5, verbose=1, n_jobs=4)\n",
    "gs.fit(X_train, y_train)\n",
    "print(gs.best_params_)\n",
    "print(gs.best_score_)"
   ]
  },
  {
   "cell_type": "code",
   "execution_count": null,
   "id": "b50aa3ef",
   "metadata": {},
   "outputs": [],
   "source": [
    "import numpy as np\n",
    "from sklearn.model_selection import RandomizedSearchCV, GridSearchCV\n",
    "other_params = {'learning_rate': 0.1, 'n_estimators': 250, 'max_depth': 3, 'min_child_weight': 5, 'seed': 0,\n",
    "                    'subsample': 0.8, 'colsample_bytree': 0.8, 'gamma': 0, 'reg_alpha': 0, 'reg_lambda': 1}\n",
    "cv_params = {'subsample': [0,0.2,0.4,0.6,0.8,1]}\n",
    "\n",
    "model = XGBRegressor(**other_params)\n",
    "\n",
    "gs = GridSearchCV(estimator=model, param_grid=cv_params, scoring='r2', cv=5, verbose=1, n_jobs=4)\n",
    "gs.fit(X_train, y_train)\n",
    "print(gs.best_params_)\n",
    "print(gs.best_score_)"
   ]
  },
  {
   "cell_type": "code",
   "execution_count": null,
   "id": "78fa4c6c",
   "metadata": {},
   "outputs": [],
   "source": [
    "import numpy as np\n",
    "from sklearn.model_selection import RandomizedSearchCV, GridSearchCV\n",
    "other_params = {'learning_rate': 0.2, 'n_estimators': 250, 'max_depth': 5, 'min_child_weight': 1, 'seed': 0,\n",
    "                    'subsample': 0.8, 'colsample_bytree': 0.8, 'gamma': 0, 'reg_alpha': 0, 'reg_lambda': 1}\n",
    "cv_params = {'learning_rate': [0,0.2,0.4,0.6,0.8,1]}\n",
    "\n",
    "model = XGBRegressor(**other_params)\n",
    "\n",
    "gs = GridSearchCV(estimator=model, param_grid=cv_params, scoring='r2', cv=5, verbose=1, n_jobs=4)\n",
    "gs.fit(X_train, y_train)\n",
    "print(gs.best_params_)\n",
    "print(gs.best_score_)"
   ]
  },
  {
   "cell_type": "code",
   "execution_count": null,
   "id": "2888b70e",
   "metadata": {},
   "outputs": [],
   "source": [
    "from xgboost import Booster, XGBRegressor,XGBClassifier\n",
    "import pandas as pd\n",
    "\n",
    "\n",
    "df = pd.read_csv('data.csv',encoding='cp950')\n",
    "\n",
    "X = df.drop(labels=['bank','population','part'],axis=1)\n",
    "y = df['bank'].values\n",
    "\n",
    "X_train,X_test,y_train,y_test = train_test_split(X,y,test_size=0.3,random_state=1)\n",
    "\n",
    "\n",
    "model = XGBRegressor()\n",
    "model.fit(X_train, y_train)\n",
    "\n",
    "pre = model.predict(X_test)\n",
    "print('xgboost:')\n",
    "print(mse(pre,y_test))"
   ]
  },
  {
   "cell_type": "code",
   "execution_count": null,
   "id": "cc1f4d17",
   "metadata": {},
   "outputs": [],
   "source": [
    "df = pd.read_csv('data.csv',encoding='cp950')\n",
    "\n",
    "X = df.drop(labels=['bank','population','part'],axis=1)\n",
    "y = df['bank'].values\n",
    "\n",
    "X_train,X_test,y_train,y_test = train_test_split(X,y,test_size=0.3,random_state=1)\n",
    "\n",
    "para = {\n",
    "    'learning_rate':1,\n",
    "    'n_estimators':100,\n",
    "    'max_depth':9}\n",
    "\n",
    "model = XGBRegressor(**para)\n",
    "model.fit(X_train, y_train)\n",
    "\n",
    "pre = model.predict(X_test)\n",
    "print('xgboost:')\n",
    "print(mse(pre,y_test))"
   ]
  },
  {
   "cell_type": "code",
   "execution_count": null,
   "id": "4bb3e1bd",
   "metadata": {},
   "outputs": [],
   "source": [
    "import sklearn\n",
    "sklearn.metrics.SCORERS.keys()"
   ]
  },
  {
   "cell_type": "code",
   "execution_count": null,
   "id": "d7e75257",
   "metadata": {},
   "outputs": [],
   "source": [
    "from sklearn.tree import ExtraTreeRegressor\n",
    "\n",
    "\n",
    "lrcv = ExtraTreeRegressor(max_depth=6)\n",
    "lrcv.fit(X_train, y_train)\n",
    "\n",
    "pre = lrcv.predict(X_test)\n",
    "print('ExtraTreeRegressor:')\n",
    "print(mse(pre,y_test))"
   ]
  },
  {
   "cell_type": "code",
   "execution_count": null,
   "id": "266e651a",
   "metadata": {},
   "outputs": [],
   "source": [
    "from sklearn.linear_model import ARDRegression\n",
    "\n",
    "lrcv = ARDRegression()\n",
    "lrcv.fit(X_train, y_train)\n",
    "\n",
    "pre = lrcv.predict(X_test)\n",
    "print('ARDRegression:')\n",
    "print(mse(pre,y_test))"
   ]
  },
  {
   "cell_type": "code",
   "execution_count": null,
   "id": "ef7adaf1",
   "metadata": {},
   "outputs": [],
   "source": []
  }
 ],
 "metadata": {
  "kernelspec": {
   "display_name": "Python 3 (ipykernel)",
   "language": "python",
   "name": "python3"
  },
  "language_info": {
   "codemirror_mode": {
    "name": "ipython",
    "version": 3
   },
   "file_extension": ".py",
   "mimetype": "text/x-python",
   "name": "python",
   "nbconvert_exporter": "python",
   "pygments_lexer": "ipython3",
   "version": "3.7.13"
  }
 },
 "nbformat": 4,
 "nbformat_minor": 5
}
